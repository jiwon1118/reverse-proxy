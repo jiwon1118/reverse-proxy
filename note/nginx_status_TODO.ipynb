{
 "cells": [
  {
   "cell_type": "code",
   "execution_count": 79,
   "id": "beb7df69-4a72-46f8-8cdf-43aaf7e8f27c",
   "metadata": {},
   "outputs": [],
   "source": [
    "import requests\n",
    "res = requests.get(\"http://localhost:8949/nginx_status\")"
   ]
  },
  {
   "cell_type": "code",
   "execution_count": 80,
   "id": "d89ce1e1-4af3-450e-9c6d-d027729a2ce4",
   "metadata": {},
   "outputs": [
    {
     "data": {
      "text/plain": [
       "'Active connections: 1 \\nserver accepts handled requests\\n 10060 10060 10061 \\nReading: 0 Writing: 1 Waiting: 0 \\n'"
      ]
     },
     "execution_count": 80,
     "metadata": {},
     "output_type": "execute_result"
    }
   ],
   "source": [
    "data = res.text\n",
    "data"
   ]
  },
  {
   "cell_type": "code",
   "execution_count": 81,
   "id": "07a565a6-4345-49a2-b64c-6f7b40566909",
   "metadata": {},
   "outputs": [
    {
     "data": {
      "text/plain": [
       "['Active connections: 1 ',\n",
       " 'server accepts handled requests',\n",
       " ' 10060 10060 10061 ',\n",
       " 'Reading: 0 Writing: 1 Waiting: 0']"
      ]
     },
     "execution_count": 81,
     "metadata": {},
     "output_type": "execute_result"
    }
   ],
   "source": [
    "# 줄 단위로 분리\n",
    "lines = data.strip().split(\"\\n\")\n",
    "\n",
    "lines"
   ]
  },
  {
   "cell_type": "code",
   "execution_count": 82,
   "id": "b8f03e0b-3fc8-4e49-8379-57a966ee29d3",
   "metadata": {},
   "outputs": [
    {
     "name": "stdout",
     "output_type": "stream",
     "text": [
      "ac = 1\n",
      "accepts = 10060\n",
      "handled = 10060\n",
      "requests = 10061\n",
      "reading = 0\n",
      "writing = 1\n",
      "waiting = 0\n"
     ]
    }
   ],
   "source": [
    "# Active connections 값 추출\n",
    "ac = int(lines[0].split(\":\")[1].strip())\n",
    "\n",
    "# accepts, handled, requests 값 추출\n",
    "accepts, handled, requests = map(int, lines[2].split())\n",
    "\n",
    "# Reading, Writing, Waiting 값 추출\n",
    "parts = lines[3].split()\n",
    "reading = int(parts[1])\n",
    "writing = int(parts[3])\n",
    "waiting = int(parts[5])\n",
    "\n",
    "# 결과 출력\n",
    "print(f\"ac = {ac}\")\n",
    "print(f\"accepts = {accepts}\")\n",
    "print(f\"handled = {handled}\")\n",
    "print(f\"requests = {requests}\")\n",
    "print(f\"reading = {reading}\")\n",
    "print(f\"writing = {writing}\")\n",
    "print(f\"waiting = {waiting}\")"
   ]
  },
  {
   "cell_type": "code",
   "execution_count": 78,
   "id": "515cf57e-8e6b-460e-9ab3-3a66eb975292",
   "metadata": {},
   "outputs": [
    {
     "name": "stdout",
     "output_type": "stream",
     "text": [
      "2025-03-06 16:41:16.062912, 1, 10050, 10050, 10051, 0, 1, 0\n",
      "2025-03-06 16:41:26.089452, 1, 10052, 10052, 10053, 0, 1, 0\n",
      "2025-03-06 16:41:36.129616, 1, 10054, 10054, 10055, 0, 1, 0\n",
      "2025-03-06 16:41:46.157371, 1, 10056, 10056, 10057, 0, 1, 0\n",
      "2025-03-06 16:41:54.507498, 1, 10058, 10058, 10059, 0, 1, 0\n"
     ]
    },
    {
     "ename": "KeyboardInterrupt",
     "evalue": "",
     "output_type": "error",
     "traceback": [
      "\u001b[0;31m---------------------------------------------------------------------------\u001b[0m",
      "\u001b[0;31mKeyboardInterrupt\u001b[0m                         Traceback (most recent call last)",
      "Cell \u001b[0;32mIn[78], line 55\u001b[0m\n\u001b[1;32m     52\u001b[0m         time\u001b[38;5;241m.\u001b[39msleep(\u001b[38;5;241m10\u001b[39m)\n\u001b[1;32m     54\u001b[0m \u001b[38;5;66;03m# 실행\u001b[39;00m\n\u001b[0;32m---> 55\u001b[0m \u001b[43mappend_status_file\u001b[49m\u001b[43m(\u001b[49m\u001b[43m)\u001b[49m\n",
      "Cell \u001b[0;32mIn[78], line 52\u001b[0m, in \u001b[0;36mappend_status_file\u001b[0;34m()\u001b[0m\n\u001b[1;32m     49\u001b[0m \u001b[38;5;28mprint\u001b[39m(\u001b[38;5;124m\"\u001b[39m\u001b[38;5;124m, \u001b[39m\u001b[38;5;124m\"\u001b[39m\u001b[38;5;241m.\u001b[39mjoin(\u001b[38;5;28mmap\u001b[39m(\u001b[38;5;28mstr\u001b[39m, data_row)))\n\u001b[1;32m     51\u001b[0m \u001b[38;5;66;03m# 10초 대기\u001b[39;00m\n\u001b[0;32m---> 52\u001b[0m \u001b[43mtime\u001b[49m\u001b[38;5;241;43m.\u001b[39;49m\u001b[43msleep\u001b[49m\u001b[43m(\u001b[49m\u001b[38;5;241;43m10\u001b[39;49m\u001b[43m)\u001b[49m\n",
      "\u001b[0;31mKeyboardInterrupt\u001b[0m: "
     ]
    }
   ],
   "source": [
    "import requests as req\n",
    "import time\n",
    "import csv\n",
    "import os\n",
    "import datetime\n",
    "\n",
    "def get_status():\n",
    "    res = req.get(\"http://localhost:8949/nginx_status\")\n",
    "    lines = res.text.strip().split(\"\\n\")\n",
    "    # Active connections 값 추출\n",
    "    ac = int(lines[0].split(\":\")[1].strip())\n",
    "\n",
    "    # accepts, handled, requests 값 추출\n",
    "    accepts, handled, requests = map(int, lines[2].split())\n",
    "\n",
    "    # Reading, Writing, Waiting 값 추출\n",
    "    parts = lines[3].split()\n",
    "    reading = int(parts[1])\n",
    "    writing = int(parts[3])\n",
    "    waiting = int(parts[5])\n",
    "\n",
    "    return datetime.datetime.now(), ac, accepts, handled, requests, reading, writing, waiting\n",
    "    \n",
    "csv_file = \"nginx_status.csv\"\n",
    "\n",
    "def append_status_file():\n",
    "    first_run = not os.path.exists(csv_file)  # CSV 파일이 없으면 True\n",
    "\n",
    "    with open(csv_file, mode=\"a\", newline=\"\") as file:\n",
    "        writer = csv.writer(file)\n",
    "\n",
    "        if first_run:\n",
    "            header = [\"Timestamp\", \"ActiveConnections\", \"Accepts\", \"Handled\", \"Requests\", \n",
    "                      \"Reading\", \"Writing\", \"Waiting\"]\n",
    "            writer.writerow(header)\n",
    "            print(\", \".join(header))  # 헤더 출력\n",
    "\n",
    "    while True:\n",
    "        # 새로운 값 가져오기\n",
    "        data_row = list(get_status())\n",
    "        timestamp, ac, accepts, handled, requests, reading, writing, waiting = get_status()\n",
    "\n",
    "        # CSV 파일에 추가\n",
    "        with open(csv_file, mode=\"a\", newline=\"\") as file:\n",
    "            writer = csv.writer(file)\n",
    "            writer.writerow(data_row)\n",
    "\n",
    "\n",
    "        print(\", \".join(map(str, data_row)))\n",
    "        \n",
    "        # 10초 대기\n",
    "        time.sleep(10)\n",
    "\n",
    "# 실행\n",
    "append_status_file()\n"
   ]
  },
  {
   "cell_type": "code",
   "execution_count": 74,
   "id": "6223784e-019c-444b-818d-1558c01d1290",
   "metadata": {},
   "outputs": [
    {
     "name": "stdout",
     "output_type": "stream",
     "text": [
      "['서민혁', '0', '권오준', '0', '안재영']\n",
      "['전희진', '0', '백지원', '0', '강현룡']\n",
      "['조성근', '0', '조민규', '0', '배형균']\n"
     ]
    }
   ],
   "source": [
    "import random\n",
    "\n",
    "names = [\n",
    "    \"조민규\", \"강현룡\", \"권오준\", \"서민혁\",\n",
    "    \"백지원\", \"안재영\", \"전희진\", \"배형균\", \"조성근\"\n",
    "]\n",
    "\n",
    "random.shuffle(names)\n",
    "\n",
    "# 5x3 배열 생성\n",
    "for i in range(3):\n",
    "    row = [names.pop(), \"0\", names.pop(), \"0\", names.pop()]\n",
    "    print(row)"
   ]
  },
  {
   "cell_type": "code",
   "execution_count": null,
   "id": "f99bb184-8f81-4bef-8314-5027e8a7e5d0",
   "metadata": {},
   "outputs": [],
   "source": []
  }
 ],
 "metadata": {
  "kernelspec": {
   "display_name": "Python 3 (ipykernel)",
   "language": "python",
   "name": "python3"
  },
  "language_info": {
   "codemirror_mode": {
    "name": "ipython",
    "version": 3
   },
   "file_extension": ".py",
   "mimetype": "text/x-python",
   "name": "python",
   "nbconvert_exporter": "python",
   "pygments_lexer": "ipython3",
   "version": "3.10.12"
  }
 },
 "nbformat": 4,
 "nbformat_minor": 5
}
