{
 "cells": [
  {
   "cell_type": "code",
   "execution_count": 4,
   "id": "79e6589c-844d-437f-af6b-439aa01aaf9a",
   "metadata": {},
   "outputs": [],
   "source": [
    "import pandas as pd"
   ]
  },
  {
   "cell_type": "code",
   "execution_count": 5,
   "id": "cfae7f89-b2d5-4029-866d-9b6420c746a9",
   "metadata": {},
   "outputs": [],
   "source": [
    "df = pd.read_csv(\"docker_stats.csv\")\n",
    "df['Timestamp'] = pd.to_datetime(df['Timestamp'], unit='s')"
   ]
  },
  {
   "cell_type": "code",
   "execution_count": 7,
   "id": "dfd7258e-98c4-4151-8e58-46ec6e75dc17",
   "metadata": {},
   "outputs": [
    {
     "data": {
      "text/html": [
       "<div>\n",
       "<style scoped>\n",
       "    .dataframe tbody tr th:only-of-type {\n",
       "        vertical-align: middle;\n",
       "    }\n",
       "\n",
       "    .dataframe tbody tr th {\n",
       "        vertical-align: top;\n",
       "    }\n",
       "\n",
       "    .dataframe thead th {\n",
       "        text-align: right;\n",
       "    }\n",
       "</style>\n",
       "<table border=\"1\" class=\"dataframe\">\n",
       "  <thead>\n",
       "    <tr style=\"text-align: right;\">\n",
       "      <th></th>\n",
       "      <th>Timestamp</th>\n",
       "      <th>Container</th>\n",
       "      <th>Name</th>\n",
       "      <th>ID</th>\n",
       "      <th>CPUPerc</th>\n",
       "      <th>MemUsage</th>\n",
       "      <th>MemPerc</th>\n",
       "      <th>NetIO</th>\n",
       "      <th>BlockIO</th>\n",
       "      <th>PIDs</th>\n",
       "    </tr>\n",
       "  </thead>\n",
       "  <tbody>\n",
       "    <tr>\n",
       "      <th>0</th>\n",
       "      <td>2025-02-27 02:19:36</td>\n",
       "      <td>669dfe948aaf</td>\n",
       "      <td>reverse-proxy-cache-1</td>\n",
       "      <td>669dfe948aaf</td>\n",
       "      <td>0.00%</td>\n",
       "      <td>9.266MiB / 20MiB</td>\n",
       "      <td>46.33%</td>\n",
       "      <td>1.28kB / 0B</td>\n",
       "      <td>0B / 0B</td>\n",
       "      <td>12</td>\n",
       "    </tr>\n",
       "    <tr>\n",
       "      <th>1</th>\n",
       "      <td>2025-02-27 02:19:36</td>\n",
       "      <td>a1a4f12b7d53</td>\n",
       "      <td>reverse-proxy-lb-1</td>\n",
       "      <td>a1a4f12b7d53</td>\n",
       "      <td>0.29%</td>\n",
       "      <td>64.7MiB / 7.637GiB</td>\n",
       "      <td>0.83%</td>\n",
       "      <td>1.28kB / 0B</td>\n",
       "      <td>0B / 0B</td>\n",
       "      <td>29</td>\n",
       "    </tr>\n",
       "    <tr>\n",
       "      <th>2</th>\n",
       "      <td>2025-02-27 02:19:36</td>\n",
       "      <td>7ea92b4a9cd6</td>\n",
       "      <td>reverse-proxy-api-1</td>\n",
       "      <td>7ea92b4a9cd6</td>\n",
       "      <td>0.29%</td>\n",
       "      <td>45.21MiB / 1GiB</td>\n",
       "      <td>4.42%</td>\n",
       "      <td>1.39kB / 0B</td>\n",
       "      <td>0B / 0B</td>\n",
       "      <td>5</td>\n",
       "    </tr>\n",
       "    <tr>\n",
       "      <th>3</th>\n",
       "      <td>2025-02-27 02:19:53</td>\n",
       "      <td>669dfe948aaf</td>\n",
       "      <td>reverse-proxy-cache-1</td>\n",
       "      <td>669dfe948aaf</td>\n",
       "      <td>0.00%</td>\n",
       "      <td>9.266MiB / 20MiB</td>\n",
       "      <td>46.33%</td>\n",
       "      <td>1.28kB / 0B</td>\n",
       "      <td>0B / 0B</td>\n",
       "      <td>12</td>\n",
       "    </tr>\n",
       "    <tr>\n",
       "      <th>4</th>\n",
       "      <td>2025-02-27 02:19:53</td>\n",
       "      <td>a1a4f12b7d53</td>\n",
       "      <td>reverse-proxy-lb-1</td>\n",
       "      <td>a1a4f12b7d53</td>\n",
       "      <td>0.25%</td>\n",
       "      <td>64.7MiB / 7.637GiB</td>\n",
       "      <td>0.83%</td>\n",
       "      <td>1.28kB / 0B</td>\n",
       "      <td>0B / 0B</td>\n",
       "      <td>29</td>\n",
       "    </tr>\n",
       "  </tbody>\n",
       "</table>\n",
       "</div>"
      ],
      "text/plain": [
       "            Timestamp     Container                   Name            ID  \\\n",
       "0 2025-02-27 02:19:36  669dfe948aaf  reverse-proxy-cache-1  669dfe948aaf   \n",
       "1 2025-02-27 02:19:36  a1a4f12b7d53     reverse-proxy-lb-1  a1a4f12b7d53   \n",
       "2 2025-02-27 02:19:36  7ea92b4a9cd6    reverse-proxy-api-1  7ea92b4a9cd6   \n",
       "3 2025-02-27 02:19:53  669dfe948aaf  reverse-proxy-cache-1  669dfe948aaf   \n",
       "4 2025-02-27 02:19:53  a1a4f12b7d53     reverse-proxy-lb-1  a1a4f12b7d53   \n",
       "\n",
       "  CPUPerc            MemUsage MemPerc        NetIO  BlockIO  PIDs  \n",
       "0   0.00%    9.266MiB / 20MiB  46.33%  1.28kB / 0B  0B / 0B    12  \n",
       "1   0.29%  64.7MiB / 7.637GiB   0.83%  1.28kB / 0B  0B / 0B    29  \n",
       "2   0.29%     45.21MiB / 1GiB   4.42%  1.39kB / 0B  0B / 0B     5  \n",
       "3   0.00%    9.266MiB / 20MiB  46.33%  1.28kB / 0B  0B / 0B    12  \n",
       "4   0.25%  64.7MiB / 7.637GiB   0.83%  1.28kB / 0B  0B / 0B    29  "
      ]
     },
     "execution_count": 7,
     "metadata": {},
     "output_type": "execute_result"
    }
   ],
   "source": [
    "df.head()"
   ]
  },
  {
   "cell_type": "code",
   "execution_count": 27,
   "id": "9120216e-8275-4414-bd32-65651fe80e00",
   "metadata": {},
   "outputs": [],
   "source": [
    "a = [1,2,3,4]\n",
    "b = ['A','B','C']"
   ]
  },
  {
   "cell_type": "code",
   "execution_count": 28,
   "id": "e10d2296-7702-47c5-b5f6-1387bf40a591",
   "metadata": {},
   "outputs": [
    {
     "data": {
      "text/plain": [
       "[1, 2, 3, 4, 'A', 'B', 'C']"
      ]
     },
     "execution_count": 28,
     "metadata": {},
     "output_type": "execute_result"
    }
   ],
   "source": [
    "c = a + b\n",
    "c"
   ]
  },
  {
   "cell_type": "code",
   "execution_count": 29,
   "id": "8d6b1623-0597-426e-a7d2-3fee972fb0b3",
   "metadata": {},
   "outputs": [
    {
     "data": {
      "text/plain": [
       "[0.123, 1, 2, 3, 4, 'A', 'B', 'C', 3.14]"
      ]
     },
     "execution_count": 29,
     "metadata": {},
     "output_type": "execute_result"
    }
   ],
   "source": [
    "# TODO\n",
    "# 맨 앞에 0.123 , 맨 뒤에 3.14 추가\n",
    "c.insert(0, 0.123)\n",
    "c.append(3.14)\n",
    "c"
   ]
  },
  {
   "cell_type": "code",
   "execution_count": 30,
   "id": "c42d2fe8-04b3-42fb-8c68-1e96b8de2073",
   "metadata": {},
   "outputs": [
    {
     "data": {
      "text/plain": [
       "[0.123, 1, 2, 3, 3.333, 4, 'A', 'B', 'C', 3.14]"
      ]
     },
     "execution_count": 30,
     "metadata": {},
     "output_type": "execute_result"
    }
   ],
   "source": [
    "# 3 뒤에 3.333 추가\n",
    "c.insert(4, 3.333)\n",
    "c"
   ]
  },
  {
   "cell_type": "code",
   "execution_count": 31,
   "id": "7e87eb52-1781-40a7-8648-00415e741f98",
   "metadata": {},
   "outputs": [
    {
     "data": {
      "text/plain": [
       "[0.123, 1, 2, 3, 3.333, 4, 'B', 'C', 3.14]"
      ]
     },
     "execution_count": 31,
     "metadata": {},
     "output_type": "execute_result"
    }
   ],
   "source": [
    "# A 삭제하기\n",
    "c.remove('A')\n",
    "c"
   ]
  },
  {
   "cell_type": "code",
   "execution_count": 34,
   "id": "788e5497-48a6-456d-9ebb-d903cec72a58",
   "metadata": {},
   "outputs": [],
   "source": [
    "# 리스트 정렬하기\n",
    "numbers = []\n",
    "strings = []\n",
    "\n",
    "for i in c:\n",
    "    if isinstance(i, (int, float)):\n",
    "        numbers.append(i)\n",
    "    else:\n",
    "        strings.append(i)\n"
   ]
  },
  {
   "cell_type": "code",
   "execution_count": 38,
   "id": "1cfa8c57-746c-4a2d-910f-3437093c5b21",
   "metadata": {},
   "outputs": [
    {
     "data": {
      "text/plain": [
       "[0.123, 1, 2, 3, 3.14, 3.333, 4]"
      ]
     },
     "execution_count": 38,
     "metadata": {},
     "output_type": "execute_result"
    }
   ],
   "source": [
    "numbers.sort()\n",
    "numbers"
   ]
  },
  {
   "cell_type": "code",
   "execution_count": 39,
   "id": "8ce612df-d9d0-4421-aea5-1c54503ab35e",
   "metadata": {},
   "outputs": [
    {
     "data": {
      "text/plain": [
       "['B', 'C']"
      ]
     },
     "execution_count": 39,
     "metadata": {},
     "output_type": "execute_result"
    }
   ],
   "source": [
    "strings.sort()\n",
    "strings"
   ]
  },
  {
   "cell_type": "code",
   "execution_count": 42,
   "id": "f4a78292-2ae8-4d09-b7d9-9000acb2b2b0",
   "metadata": {},
   "outputs": [
    {
     "data": {
      "text/plain": [
       "['B', 'C', 0.123, 1, 2, 3, 3.14, 3.333, 4]"
      ]
     },
     "execution_count": 42,
     "metadata": {},
     "output_type": "execute_result"
    }
   ],
   "source": [
    "result = strings + numbers\n",
    "result"
   ]
  },
  {
   "cell_type": "code",
   "execution_count": null,
   "id": "57719c41-260c-420b-8f06-00f983a07d58",
   "metadata": {},
   "outputs": [],
   "source": []
  }
 ],
 "metadata": {
  "kernelspec": {
   "display_name": "Python 3 (ipykernel)",
   "language": "python",
   "name": "python3"
  },
  "language_info": {
   "codemirror_mode": {
    "name": "ipython",
    "version": 3
   },
   "file_extension": ".py",
   "mimetype": "text/x-python",
   "name": "python",
   "nbconvert_exporter": "python",
   "pygments_lexer": "ipython3",
   "version": "3.10.12"
  }
 },
 "nbformat": 4,
 "nbformat_minor": 5
}
